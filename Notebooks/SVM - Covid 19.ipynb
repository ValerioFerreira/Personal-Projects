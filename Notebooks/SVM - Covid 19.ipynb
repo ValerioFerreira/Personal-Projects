{
 "cells": [
  {
   "cell_type": "code",
   "execution_count": 1,
   "metadata": {},
   "outputs": [],
   "source": [
    "import pandas as pd"
   ]
  },
  {
   "cell_type": "code",
   "execution_count": 2,
   "metadata": {},
   "outputs": [
    {
     "name": "stderr",
     "output_type": "stream",
     "text": [
      "C:\\Users\\Gabriel Vasconcelos\\anaconda3\\lib\\site-packages\\IPython\\core\\interactiveshell.py:3146: DtypeWarning: Columns (15,18,60,62,63,64,92,94,106,108,115,117,118,119,123,144) have mixed types.Specify dtype option on import or set low_memory=False.\n",
      "  has_raised = await self.run_ast_nodes(code_ast.body, cell_name,\n"
     ]
    },
    {
     "data": {
      "text/html": [
       "<div>\n",
       "<style scoped>\n",
       "    .dataframe tbody tr th:only-of-type {\n",
       "        vertical-align: middle;\n",
       "    }\n",
       "\n",
       "    .dataframe tbody tr th {\n",
       "        vertical-align: top;\n",
       "    }\n",
       "\n",
       "    .dataframe thead th {\n",
       "        text-align: right;\n",
       "    }\n",
       "</style>\n",
       "<table border=\"1\" class=\"dataframe\">\n",
       "  <thead>\n",
       "    <tr style=\"text-align: right;\">\n",
       "      <th></th>\n",
       "      <th>DT_NOTIFIC</th>\n",
       "      <th>SEM_NOT</th>\n",
       "      <th>DT_SIN_PRI</th>\n",
       "      <th>SEM_PRI</th>\n",
       "      <th>SG_UF_NOT</th>\n",
       "      <th>ID_REGIONA</th>\n",
       "      <th>CO_REGIONA</th>\n",
       "      <th>ID_MUNICIP</th>\n",
       "      <th>CO_MUN_NOT</th>\n",
       "      <th>ID_UNIDADE</th>\n",
       "      <th>...</th>\n",
       "      <th>RES_IGM</th>\n",
       "      <th>RES_IGA</th>\n",
       "      <th>ESTRANG</th>\n",
       "      <th>VACINA_COV</th>\n",
       "      <th>DOSE_1_COV</th>\n",
       "      <th>DOSE_2_COV</th>\n",
       "      <th>LAB_PR_COV</th>\n",
       "      <th>LOTE_1_COV</th>\n",
       "      <th>LOTE_2_COV</th>\n",
       "      <th>FNT_IN_COV</th>\n",
       "    </tr>\n",
       "  </thead>\n",
       "  <tbody>\n",
       "    <tr>\n",
       "      <th>0</th>\n",
       "      <td>05/01/2021</td>\n",
       "      <td>1</td>\n",
       "      <td>03/01/2021</td>\n",
       "      <td>1</td>\n",
       "      <td>PR</td>\n",
       "      <td>09RS FOZ DO IGUACU</td>\n",
       "      <td>1363.0</td>\n",
       "      <td>MATELANDIA</td>\n",
       "      <td>411560</td>\n",
       "      <td>HOSPITAL E MATERNIDADE PADRE TEZZA</td>\n",
       "      <td>...</td>\n",
       "      <td>NaN</td>\n",
       "      <td>NaN</td>\n",
       "      <td>NaN</td>\n",
       "      <td>2.0</td>\n",
       "      <td>NaN</td>\n",
       "      <td>NaN</td>\n",
       "      <td>NaN</td>\n",
       "      <td>NaN</td>\n",
       "      <td>NaN</td>\n",
       "      <td>1.0</td>\n",
       "    </tr>\n",
       "    <tr>\n",
       "      <th>1</th>\n",
       "      <td>07/01/2021</td>\n",
       "      <td>1</td>\n",
       "      <td>04/01/2021</td>\n",
       "      <td>1</td>\n",
       "      <td>SP</td>\n",
       "      <td>GVE I CAPITAL</td>\n",
       "      <td>1331.0</td>\n",
       "      <td>SAO PAULO</td>\n",
       "      <td>355030</td>\n",
       "      <td>HOSP STA CRUZ</td>\n",
       "      <td>...</td>\n",
       "      <td>NaN</td>\n",
       "      <td>NaN</td>\n",
       "      <td>NaN</td>\n",
       "      <td>NaN</td>\n",
       "      <td>NaN</td>\n",
       "      <td>NaN</td>\n",
       "      <td>NaN</td>\n",
       "      <td>NaN</td>\n",
       "      <td>NaN</td>\n",
       "      <td>NaN</td>\n",
       "    </tr>\n",
       "    <tr>\n",
       "      <th>2</th>\n",
       "      <td>08/01/2021</td>\n",
       "      <td>1</td>\n",
       "      <td>05/01/2021</td>\n",
       "      <td>1</td>\n",
       "      <td>SP</td>\n",
       "      <td>GVE XVII CAMPINAS</td>\n",
       "      <td>1342.0</td>\n",
       "      <td>CAMPINAS</td>\n",
       "      <td>350950</td>\n",
       "      <td>HOSPITAL DAS CLINICAS DA UNICAMP DE CAMPINAS</td>\n",
       "      <td>...</td>\n",
       "      <td>NaN</td>\n",
       "      <td>NaN</td>\n",
       "      <td>NaN</td>\n",
       "      <td>NaN</td>\n",
       "      <td>NaN</td>\n",
       "      <td>NaN</td>\n",
       "      <td>NaN</td>\n",
       "      <td>NaN</td>\n",
       "      <td>NaN</td>\n",
       "      <td>NaN</td>\n",
       "    </tr>\n",
       "    <tr>\n",
       "      <th>3</th>\n",
       "      <td>11/01/2021</td>\n",
       "      <td>2</td>\n",
       "      <td>09/01/2021</td>\n",
       "      <td>1</td>\n",
       "      <td>PR</td>\n",
       "      <td>02RS METROPOLITANA</td>\n",
       "      <td>1356.0</td>\n",
       "      <td>CURITIBA</td>\n",
       "      <td>410690</td>\n",
       "      <td>COMPLEXO HOSPITAL DE CLINICAS</td>\n",
       "      <td>...</td>\n",
       "      <td>NaN</td>\n",
       "      <td>NaN</td>\n",
       "      <td>2.0</td>\n",
       "      <td>2.0</td>\n",
       "      <td>NaN</td>\n",
       "      <td>NaN</td>\n",
       "      <td>NaN</td>\n",
       "      <td>NaN</td>\n",
       "      <td>NaN</td>\n",
       "      <td>2.0</td>\n",
       "    </tr>\n",
       "    <tr>\n",
       "      <th>4</th>\n",
       "      <td>09/01/2021</td>\n",
       "      <td>1</td>\n",
       "      <td>07/01/2021</td>\n",
       "      <td>1</td>\n",
       "      <td>SP</td>\n",
       "      <td>GVE VIII MOGI DAS CRUZES</td>\n",
       "      <td>1333.0</td>\n",
       "      <td>ITAQUAQUECETUBA</td>\n",
       "      <td>352310</td>\n",
       "      <td>HOSPITAL GERAL DE ITAQUAQUECETUBA</td>\n",
       "      <td>...</td>\n",
       "      <td>NaN</td>\n",
       "      <td>NaN</td>\n",
       "      <td>NaN</td>\n",
       "      <td>NaN</td>\n",
       "      <td>NaN</td>\n",
       "      <td>NaN</td>\n",
       "      <td>NaN</td>\n",
       "      <td>NaN</td>\n",
       "      <td>NaN</td>\n",
       "      <td>NaN</td>\n",
       "    </tr>\n",
       "  </tbody>\n",
       "</table>\n",
       "<p>5 rows × 162 columns</p>\n",
       "</div>"
      ],
      "text/plain": [
       "   DT_NOTIFIC  SEM_NOT  DT_SIN_PRI  SEM_PRI SG_UF_NOT  \\\n",
       "0  05/01/2021        1  03/01/2021        1        PR   \n",
       "1  07/01/2021        1  04/01/2021        1        SP   \n",
       "2  08/01/2021        1  05/01/2021        1        SP   \n",
       "3  11/01/2021        2  09/01/2021        1        PR   \n",
       "4  09/01/2021        1  07/01/2021        1        SP   \n",
       "\n",
       "                 ID_REGIONA  CO_REGIONA       ID_MUNICIP  CO_MUN_NOT  \\\n",
       "0        09RS FOZ DO IGUACU      1363.0       MATELANDIA      411560   \n",
       "1             GVE I CAPITAL      1331.0        SAO PAULO      355030   \n",
       "2         GVE XVII CAMPINAS      1342.0         CAMPINAS      350950   \n",
       "3        02RS METROPOLITANA      1356.0         CURITIBA      410690   \n",
       "4  GVE VIII MOGI DAS CRUZES      1333.0  ITAQUAQUECETUBA      352310   \n",
       "\n",
       "                                     ID_UNIDADE  ...  RES_IGM RES_IGA ESTRANG  \\\n",
       "0            HOSPITAL E MATERNIDADE PADRE TEZZA  ...      NaN     NaN     NaN   \n",
       "1                                 HOSP STA CRUZ  ...      NaN     NaN     NaN   \n",
       "2  HOSPITAL DAS CLINICAS DA UNICAMP DE CAMPINAS  ...      NaN     NaN     NaN   \n",
       "3                 COMPLEXO HOSPITAL DE CLINICAS  ...      NaN     NaN     2.0   \n",
       "4             HOSPITAL GERAL DE ITAQUAQUECETUBA  ...      NaN     NaN     NaN   \n",
       "\n",
       "   VACINA_COV  DOSE_1_COV DOSE_2_COV  LAB_PR_COV  LOTE_1_COV LOTE_2_COV  \\\n",
       "0         2.0         NaN        NaN         NaN         NaN        NaN   \n",
       "1         NaN         NaN        NaN         NaN         NaN        NaN   \n",
       "2         NaN         NaN        NaN         NaN         NaN        NaN   \n",
       "3         2.0         NaN        NaN         NaN         NaN        NaN   \n",
       "4         NaN         NaN        NaN         NaN         NaN        NaN   \n",
       "\n",
       "   FNT_IN_COV  \n",
       "0         1.0  \n",
       "1         NaN  \n",
       "2         NaN  \n",
       "3         2.0  \n",
       "4         NaN  \n",
       "\n",
       "[5 rows x 162 columns]"
      ]
     },
     "execution_count": 2,
     "metadata": {},
     "output_type": "execute_result"
    }
   ],
   "source": [
    "df = pd.read_csv(\"INFLUD21-29-11-2021.csv\", sep=\";\")\n",
    "df.head()"
   ]
  },
  {
   "cell_type": "code",
   "execution_count": 3,
   "metadata": {},
   "outputs": [
    {
     "data": {
      "text/plain": [
       "(1625471, 162)"
      ]
     },
     "execution_count": 3,
     "metadata": {},
     "output_type": "execute_result"
    }
   ],
   "source": [
    "df.shape"
   ]
  },
  {
   "cell_type": "code",
   "execution_count": 4,
   "metadata": {},
   "outputs": [
    {
     "name": "stdout",
     "output_type": "stream",
     "text": [
      "DT_NOTIFIC          0\n",
      "SEM_NOT             0\n",
      "DT_SIN_PRI          0\n",
      "SEM_PRI             0\n",
      "SG_UF_NOT           0\n",
      "               ...   \n",
      "DOSE_2_COV    1465349\n",
      "LAB_PR_COV    1352907\n",
      "LOTE_1_COV    1433877\n",
      "LOTE_2_COV    1502539\n",
      "FNT_IN_COV     516581\n",
      "Length: 162, dtype: int64\n"
     ]
    }
   ],
   "source": [
    "print(df.isnull().sum())"
   ]
  },
  {
   "cell_type": "markdown",
   "metadata": {},
   "source": [
    "### Criando novo df filtrado"
   ]
  },
  {
   "cell_type": "markdown",
   "metadata": {},
   "source": [
    "#### Novo df com pacientes que apresentaram sintomas, vacinados ou não, internados ou não e se sobreviveram"
   ]
  },
  {
   "cell_type": "code",
   "execution_count": 5,
   "metadata": {},
   "outputs": [
    {
     "data": {
      "text/html": [
       "<div>\n",
       "<style scoped>\n",
       "    .dataframe tbody tr th:only-of-type {\n",
       "        vertical-align: middle;\n",
       "    }\n",
       "\n",
       "    .dataframe tbody tr th {\n",
       "        vertical-align: top;\n",
       "    }\n",
       "\n",
       "    .dataframe thead th {\n",
       "        text-align: right;\n",
       "    }\n",
       "</style>\n",
       "<table border=\"1\" class=\"dataframe\">\n",
       "  <thead>\n",
       "    <tr style=\"text-align: right;\">\n",
       "      <th></th>\n",
       "      <th>FEBRE</th>\n",
       "      <th>TOSSE</th>\n",
       "      <th>GARGANTA</th>\n",
       "      <th>DISPNEIA</th>\n",
       "      <th>DESC_RESP</th>\n",
       "      <th>SATURACAO</th>\n",
       "      <th>DIARREIA</th>\n",
       "      <th>VOMITO</th>\n",
       "      <th>DOR_ABD</th>\n",
       "      <th>FADIGA</th>\n",
       "      <th>PERD_OLFT</th>\n",
       "      <th>PERD_PALA</th>\n",
       "      <th>VACINA_COV</th>\n",
       "      <th>HOSPITAL</th>\n",
       "      <th>EVOLUCAO</th>\n",
       "    </tr>\n",
       "  </thead>\n",
       "  <tbody>\n",
       "    <tr>\n",
       "      <th>0</th>\n",
       "      <td>2.0</td>\n",
       "      <td>1.0</td>\n",
       "      <td>2.0</td>\n",
       "      <td>2.0</td>\n",
       "      <td>2.0</td>\n",
       "      <td>2.0</td>\n",
       "      <td>2.0</td>\n",
       "      <td>2.0</td>\n",
       "      <td>2.0</td>\n",
       "      <td>2.0</td>\n",
       "      <td>2.0</td>\n",
       "      <td>2.0</td>\n",
       "      <td>2.0</td>\n",
       "      <td>1.0</td>\n",
       "      <td>1.0</td>\n",
       "    </tr>\n",
       "    <tr>\n",
       "      <th>1</th>\n",
       "      <td>2.0</td>\n",
       "      <td>1.0</td>\n",
       "      <td>2.0</td>\n",
       "      <td>1.0</td>\n",
       "      <td>1.0</td>\n",
       "      <td>1.0</td>\n",
       "      <td>2.0</td>\n",
       "      <td>2.0</td>\n",
       "      <td>2.0</td>\n",
       "      <td>1.0</td>\n",
       "      <td>2.0</td>\n",
       "      <td>2.0</td>\n",
       "      <td>NaN</td>\n",
       "      <td>1.0</td>\n",
       "      <td>1.0</td>\n",
       "    </tr>\n",
       "    <tr>\n",
       "      <th>2</th>\n",
       "      <td>2.0</td>\n",
       "      <td>2.0</td>\n",
       "      <td>2.0</td>\n",
       "      <td>1.0</td>\n",
       "      <td>2.0</td>\n",
       "      <td>1.0</td>\n",
       "      <td>2.0</td>\n",
       "      <td>2.0</td>\n",
       "      <td>2.0</td>\n",
       "      <td>1.0</td>\n",
       "      <td>2.0</td>\n",
       "      <td>2.0</td>\n",
       "      <td>NaN</td>\n",
       "      <td>1.0</td>\n",
       "      <td>1.0</td>\n",
       "    </tr>\n",
       "    <tr>\n",
       "      <th>3</th>\n",
       "      <td>NaN</td>\n",
       "      <td>NaN</td>\n",
       "      <td>NaN</td>\n",
       "      <td>1.0</td>\n",
       "      <td>NaN</td>\n",
       "      <td>1.0</td>\n",
       "      <td>NaN</td>\n",
       "      <td>NaN</td>\n",
       "      <td>NaN</td>\n",
       "      <td>NaN</td>\n",
       "      <td>NaN</td>\n",
       "      <td>NaN</td>\n",
       "      <td>2.0</td>\n",
       "      <td>1.0</td>\n",
       "      <td>2.0</td>\n",
       "    </tr>\n",
       "    <tr>\n",
       "      <th>4</th>\n",
       "      <td>1.0</td>\n",
       "      <td>1.0</td>\n",
       "      <td>2.0</td>\n",
       "      <td>1.0</td>\n",
       "      <td>1.0</td>\n",
       "      <td>1.0</td>\n",
       "      <td>2.0</td>\n",
       "      <td>1.0</td>\n",
       "      <td>1.0</td>\n",
       "      <td>2.0</td>\n",
       "      <td>2.0</td>\n",
       "      <td>2.0</td>\n",
       "      <td>NaN</td>\n",
       "      <td>2.0</td>\n",
       "      <td>2.0</td>\n",
       "    </tr>\n",
       "  </tbody>\n",
       "</table>\n",
       "</div>"
      ],
      "text/plain": [
       "   FEBRE  TOSSE  GARGANTA  DISPNEIA  DESC_RESP  SATURACAO  DIARREIA  VOMITO  \\\n",
       "0    2.0    1.0       2.0       2.0        2.0        2.0       2.0     2.0   \n",
       "1    2.0    1.0       2.0       1.0        1.0        1.0       2.0     2.0   \n",
       "2    2.0    2.0       2.0       1.0        2.0        1.0       2.0     2.0   \n",
       "3    NaN    NaN       NaN       1.0        NaN        1.0       NaN     NaN   \n",
       "4    1.0    1.0       2.0       1.0        1.0        1.0       2.0     1.0   \n",
       "\n",
       "   DOR_ABD  FADIGA  PERD_OLFT  PERD_PALA  VACINA_COV  HOSPITAL  EVOLUCAO  \n",
       "0      2.0     2.0        2.0        2.0         2.0       1.0       1.0  \n",
       "1      2.0     1.0        2.0        2.0         NaN       1.0       1.0  \n",
       "2      2.0     1.0        2.0        2.0         NaN       1.0       1.0  \n",
       "3      NaN     NaN        NaN        NaN         2.0       1.0       2.0  \n",
       "4      1.0     2.0        2.0        2.0         NaN       2.0       2.0  "
      ]
     },
     "execution_count": 5,
     "metadata": {},
     "output_type": "execute_result"
    }
   ],
   "source": [
    "novoDf = df[['FEBRE', 'TOSSE', 'GARGANTA', 'DISPNEIA', 'DESC_RESP', 'SATURACAO', 'DIARREIA', 'VOMITO', 'DOR_ABD', 'FADIGA', 'PERD_OLFT', 'PERD_PALA', 'VACINA_COV', 'HOSPITAL', 'EVOLUCAO']]\n",
    "novoDf.head()"
   ]
  },
  {
   "cell_type": "markdown",
   "metadata": {},
   "source": [
    "#### Analisando value counts de cada coluna"
   ]
  },
  {
   "cell_type": "code",
   "execution_count": 6,
   "metadata": {},
   "outputs": [
    {
     "name": "stdout",
     "output_type": "stream",
     "text": [
      "1.0    842760\n",
      "2.0    466474\n",
      "9.0     19919\n",
      "Name: FEBRE, dtype: int64\n",
      "\n",
      "\n",
      "1.0    1083235\n",
      "2.0     300860\n",
      "9.0      15983\n",
      "Name: TOSSE, dtype: int64\n",
      "\n",
      "\n",
      "2.0    825237\n",
      "1.0    258591\n",
      "9.0     31842\n",
      "Name: GARGANTA, dtype: int64\n",
      "\n",
      "\n",
      "1.0    1127595\n",
      "2.0     272106\n",
      "9.0      13863\n",
      "Name: DISPNEIA, dtype: int64\n",
      "\n",
      "\n",
      "1.0    887548\n",
      "2.0    390896\n",
      "9.0     18411\n",
      "Name: DESC_RESP, dtype: int64\n",
      "\n",
      "\n",
      "1.0    1028221\n",
      "2.0     309210\n",
      "9.0      18748\n",
      "Name: SATURACAO, dtype: int64\n",
      "\n",
      "\n",
      "2.0    871557\n",
      "1.0    195951\n",
      "9.0     29612\n",
      "Name: DIARREIA, dtype: int64\n",
      "\n",
      "\n",
      "2.0    909411\n",
      "1.0    139294\n",
      "9.0     30557\n",
      "Name: VOMITO, dtype: int64\n",
      "\n",
      "\n",
      "2.0    922984\n",
      "1.0     98783\n",
      "9.0     36600\n",
      "Name: DOR_ABD, dtype: int64\n",
      "\n",
      "\n",
      "2.0    694980\n",
      "1.0    400184\n",
      "9.0     32908\n",
      "Name: FADIGA, dtype: int64\n",
      "\n",
      "\n",
      "2.0    895216\n",
      "1.0    134402\n",
      "9.0     42488\n",
      "Name: PERD_OLFT, dtype: int64\n",
      "\n",
      "\n",
      "2.0    891532\n",
      "1.0    136952\n",
      "9.0     43116\n",
      "Name: PERD_PALA, dtype: int64\n",
      "\n",
      "\n",
      "2.0    531033\n",
      "1.0    310068\n",
      "9.0    267570\n",
      "Name: VACINA_COV, dtype: int64\n",
      "\n",
      "\n",
      "1.0    1546732\n",
      "2.0      27709\n",
      "9.0       2962\n",
      "Name: HOSPITAL, dtype: int64\n",
      "\n",
      "\n",
      "1.0    915796\n",
      "2.0    409801\n",
      "9.0     46005\n",
      "3.0     17547\n",
      "Name: EVOLUCAO, dtype: int64\n",
      "\n",
      "\n"
     ]
    }
   ],
   "source": [
    "for c in range(len(novoDf.columns)):\n",
    "    print(novoDf[novoDf.columns[c]].value_counts())\n",
    "    print(\"\\n\")"
   ]
  },
  {
   "cell_type": "markdown",
   "metadata": {},
   "source": [
    "#### pegando dados somente com entradas 1 e 2 em ambas as colunas"
   ]
  },
  {
   "cell_type": "code",
   "execution_count": 7,
   "metadata": {},
   "outputs": [
    {
     "data": {
      "text/html": [
       "<div>\n",
       "<style scoped>\n",
       "    .dataframe tbody tr th:only-of-type {\n",
       "        vertical-align: middle;\n",
       "    }\n",
       "\n",
       "    .dataframe tbody tr th {\n",
       "        vertical-align: top;\n",
       "    }\n",
       "\n",
       "    .dataframe thead th {\n",
       "        text-align: right;\n",
       "    }\n",
       "</style>\n",
       "<table border=\"1\" class=\"dataframe\">\n",
       "  <thead>\n",
       "    <tr style=\"text-align: right;\">\n",
       "      <th></th>\n",
       "      <th>FEBRE</th>\n",
       "      <th>TOSSE</th>\n",
       "      <th>GARGANTA</th>\n",
       "      <th>DISPNEIA</th>\n",
       "      <th>DESC_RESP</th>\n",
       "      <th>SATURACAO</th>\n",
       "      <th>DIARREIA</th>\n",
       "      <th>VOMITO</th>\n",
       "      <th>DOR_ABD</th>\n",
       "      <th>FADIGA</th>\n",
       "      <th>PERD_OLFT</th>\n",
       "      <th>PERD_PALA</th>\n",
       "      <th>VACINA_COV</th>\n",
       "      <th>HOSPITAL</th>\n",
       "      <th>EVOLUCAO</th>\n",
       "    </tr>\n",
       "  </thead>\n",
       "  <tbody>\n",
       "    <tr>\n",
       "      <th>0</th>\n",
       "      <td>2.0</td>\n",
       "      <td>1.0</td>\n",
       "      <td>2.0</td>\n",
       "      <td>2.0</td>\n",
       "      <td>2.0</td>\n",
       "      <td>2.0</td>\n",
       "      <td>2.0</td>\n",
       "      <td>2.0</td>\n",
       "      <td>2.0</td>\n",
       "      <td>2.0</td>\n",
       "      <td>2.0</td>\n",
       "      <td>2.0</td>\n",
       "      <td>2.0</td>\n",
       "      <td>1.0</td>\n",
       "      <td>1.0</td>\n",
       "    </tr>\n",
       "    <tr>\n",
       "      <th>1</th>\n",
       "      <td>2.0</td>\n",
       "      <td>1.0</td>\n",
       "      <td>2.0</td>\n",
       "      <td>1.0</td>\n",
       "      <td>1.0</td>\n",
       "      <td>1.0</td>\n",
       "      <td>2.0</td>\n",
       "      <td>2.0</td>\n",
       "      <td>2.0</td>\n",
       "      <td>1.0</td>\n",
       "      <td>2.0</td>\n",
       "      <td>2.0</td>\n",
       "      <td>NaN</td>\n",
       "      <td>1.0</td>\n",
       "      <td>1.0</td>\n",
       "    </tr>\n",
       "    <tr>\n",
       "      <th>2</th>\n",
       "      <td>2.0</td>\n",
       "      <td>2.0</td>\n",
       "      <td>2.0</td>\n",
       "      <td>1.0</td>\n",
       "      <td>2.0</td>\n",
       "      <td>1.0</td>\n",
       "      <td>2.0</td>\n",
       "      <td>2.0</td>\n",
       "      <td>2.0</td>\n",
       "      <td>1.0</td>\n",
       "      <td>2.0</td>\n",
       "      <td>2.0</td>\n",
       "      <td>NaN</td>\n",
       "      <td>1.0</td>\n",
       "      <td>1.0</td>\n",
       "    </tr>\n",
       "    <tr>\n",
       "      <th>3</th>\n",
       "      <td>NaN</td>\n",
       "      <td>NaN</td>\n",
       "      <td>NaN</td>\n",
       "      <td>1.0</td>\n",
       "      <td>NaN</td>\n",
       "      <td>1.0</td>\n",
       "      <td>NaN</td>\n",
       "      <td>NaN</td>\n",
       "      <td>NaN</td>\n",
       "      <td>NaN</td>\n",
       "      <td>NaN</td>\n",
       "      <td>NaN</td>\n",
       "      <td>2.0</td>\n",
       "      <td>1.0</td>\n",
       "      <td>2.0</td>\n",
       "    </tr>\n",
       "    <tr>\n",
       "      <th>4</th>\n",
       "      <td>1.0</td>\n",
       "      <td>1.0</td>\n",
       "      <td>2.0</td>\n",
       "      <td>1.0</td>\n",
       "      <td>1.0</td>\n",
       "      <td>1.0</td>\n",
       "      <td>2.0</td>\n",
       "      <td>1.0</td>\n",
       "      <td>1.0</td>\n",
       "      <td>2.0</td>\n",
       "      <td>2.0</td>\n",
       "      <td>2.0</td>\n",
       "      <td>NaN</td>\n",
       "      <td>2.0</td>\n",
       "      <td>2.0</td>\n",
       "    </tr>\n",
       "  </tbody>\n",
       "</table>\n",
       "</div>"
      ],
      "text/plain": [
       "   FEBRE  TOSSE  GARGANTA  DISPNEIA  DESC_RESP  SATURACAO  DIARREIA  VOMITO  \\\n",
       "0    2.0    1.0       2.0       2.0        2.0        2.0       2.0     2.0   \n",
       "1    2.0    1.0       2.0       1.0        1.0        1.0       2.0     2.0   \n",
       "2    2.0    2.0       2.0       1.0        2.0        1.0       2.0     2.0   \n",
       "3    NaN    NaN       NaN       1.0        NaN        1.0       NaN     NaN   \n",
       "4    1.0    1.0       2.0       1.0        1.0        1.0       2.0     1.0   \n",
       "\n",
       "   DOR_ABD  FADIGA  PERD_OLFT  PERD_PALA  VACINA_COV  HOSPITAL  EVOLUCAO  \n",
       "0      2.0     2.0        2.0        2.0         2.0       1.0       1.0  \n",
       "1      2.0     1.0        2.0        2.0         NaN       1.0       1.0  \n",
       "2      2.0     1.0        2.0        2.0         NaN       1.0       1.0  \n",
       "3      NaN     NaN        NaN        NaN         2.0       1.0       2.0  \n",
       "4      1.0     2.0        2.0        2.0         NaN       2.0       2.0  "
      ]
     },
     "execution_count": 7,
     "metadata": {},
     "output_type": "execute_result"
    }
   ],
   "source": [
    "dadosML = novoDf[(novoDf['FEBRE']!=9) & (novoDf['TOSSE']!=9) & (novoDf['GARGANTA']!=9) & (novoDf['DISPNEIA']!=9) & (novoDf['DESC_RESP']!=9) & (novoDf['SATURACAO']!=9) & (novoDf['DIARREIA']!=9) & (novoDf['VOMITO']!=9) & (novoDf['DOR_ABD']!=9) & (novoDf['FADIGA']!=9) & (novoDf['PERD_OLFT']!=9) & (novoDf['PERD_PALA']!=9) & (novoDf['VACINA_COV']!=9) & (novoDf['HOSPITAL']!=9) & (novoDf['EVOLUCAO']!=9) & (novoDf['EVOLUCAO']!=3)]\n",
    "dadosML.head()"
   ]
  },
  {
   "cell_type": "code",
   "execution_count": 8,
   "metadata": {},
   "outputs": [
    {
     "data": {
      "text/plain": [
       "(1267231, 15)"
      ]
     },
     "execution_count": 8,
     "metadata": {},
     "output_type": "execute_result"
    }
   ],
   "source": [
    "dadosML.shape"
   ]
  },
  {
   "cell_type": "code",
   "execution_count": 9,
   "metadata": {},
   "outputs": [
    {
     "data": {
      "text/html": [
       "<div>\n",
       "<style scoped>\n",
       "    .dataframe tbody tr th:only-of-type {\n",
       "        vertical-align: middle;\n",
       "    }\n",
       "\n",
       "    .dataframe tbody tr th {\n",
       "        vertical-align: top;\n",
       "    }\n",
       "\n",
       "    .dataframe thead th {\n",
       "        text-align: right;\n",
       "    }\n",
       "</style>\n",
       "<table border=\"1\" class=\"dataframe\">\n",
       "  <thead>\n",
       "    <tr style=\"text-align: right;\">\n",
       "      <th></th>\n",
       "      <th>FEBRE</th>\n",
       "      <th>TOSSE</th>\n",
       "      <th>GARGANTA</th>\n",
       "      <th>DISPNEIA</th>\n",
       "      <th>DESC_RESP</th>\n",
       "      <th>SATURACAO</th>\n",
       "      <th>DIARREIA</th>\n",
       "      <th>VOMITO</th>\n",
       "      <th>DOR_ABD</th>\n",
       "      <th>FADIGA</th>\n",
       "      <th>PERD_OLFT</th>\n",
       "      <th>PERD_PALA</th>\n",
       "      <th>VACINA_COV</th>\n",
       "      <th>HOSPITAL</th>\n",
       "      <th>EVOLUCAO</th>\n",
       "    </tr>\n",
       "  </thead>\n",
       "  <tbody>\n",
       "    <tr>\n",
       "      <th>0</th>\n",
       "      <td>2.0</td>\n",
       "      <td>1.0</td>\n",
       "      <td>2.0</td>\n",
       "      <td>2.0</td>\n",
       "      <td>2.0</td>\n",
       "      <td>2.0</td>\n",
       "      <td>2.0</td>\n",
       "      <td>2.0</td>\n",
       "      <td>2.0</td>\n",
       "      <td>2.0</td>\n",
       "      <td>2.0</td>\n",
       "      <td>2.0</td>\n",
       "      <td>2.0</td>\n",
       "      <td>1.0</td>\n",
       "      <td>1.0</td>\n",
       "    </tr>\n",
       "    <tr>\n",
       "      <th>1</th>\n",
       "      <td>2.0</td>\n",
       "      <td>1.0</td>\n",
       "      <td>2.0</td>\n",
       "      <td>1.0</td>\n",
       "      <td>1.0</td>\n",
       "      <td>1.0</td>\n",
       "      <td>2.0</td>\n",
       "      <td>2.0</td>\n",
       "      <td>2.0</td>\n",
       "      <td>1.0</td>\n",
       "      <td>2.0</td>\n",
       "      <td>2.0</td>\n",
       "      <td>NaN</td>\n",
       "      <td>1.0</td>\n",
       "      <td>1.0</td>\n",
       "    </tr>\n",
       "    <tr>\n",
       "      <th>2</th>\n",
       "      <td>2.0</td>\n",
       "      <td>2.0</td>\n",
       "      <td>2.0</td>\n",
       "      <td>1.0</td>\n",
       "      <td>2.0</td>\n",
       "      <td>1.0</td>\n",
       "      <td>2.0</td>\n",
       "      <td>2.0</td>\n",
       "      <td>2.0</td>\n",
       "      <td>1.0</td>\n",
       "      <td>2.0</td>\n",
       "      <td>2.0</td>\n",
       "      <td>NaN</td>\n",
       "      <td>1.0</td>\n",
       "      <td>1.0</td>\n",
       "    </tr>\n",
       "    <tr>\n",
       "      <th>3</th>\n",
       "      <td>NaN</td>\n",
       "      <td>NaN</td>\n",
       "      <td>NaN</td>\n",
       "      <td>1.0</td>\n",
       "      <td>NaN</td>\n",
       "      <td>1.0</td>\n",
       "      <td>NaN</td>\n",
       "      <td>NaN</td>\n",
       "      <td>NaN</td>\n",
       "      <td>NaN</td>\n",
       "      <td>NaN</td>\n",
       "      <td>NaN</td>\n",
       "      <td>2.0</td>\n",
       "      <td>1.0</td>\n",
       "      <td>2.0</td>\n",
       "    </tr>\n",
       "    <tr>\n",
       "      <th>4</th>\n",
       "      <td>1.0</td>\n",
       "      <td>1.0</td>\n",
       "      <td>2.0</td>\n",
       "      <td>1.0</td>\n",
       "      <td>1.0</td>\n",
       "      <td>1.0</td>\n",
       "      <td>2.0</td>\n",
       "      <td>1.0</td>\n",
       "      <td>1.0</td>\n",
       "      <td>2.0</td>\n",
       "      <td>2.0</td>\n",
       "      <td>2.0</td>\n",
       "      <td>NaN</td>\n",
       "      <td>2.0</td>\n",
       "      <td>2.0</td>\n",
       "    </tr>\n",
       "  </tbody>\n",
       "</table>\n",
       "</div>"
      ],
      "text/plain": [
       "   FEBRE  TOSSE  GARGANTA  DISPNEIA  DESC_RESP  SATURACAO  DIARREIA  VOMITO  \\\n",
       "0    2.0    1.0       2.0       2.0        2.0        2.0       2.0     2.0   \n",
       "1    2.0    1.0       2.0       1.0        1.0        1.0       2.0     2.0   \n",
       "2    2.0    2.0       2.0       1.0        2.0        1.0       2.0     2.0   \n",
       "3    NaN    NaN       NaN       1.0        NaN        1.0       NaN     NaN   \n",
       "4    1.0    1.0       2.0       1.0        1.0        1.0       2.0     1.0   \n",
       "\n",
       "   DOR_ABD  FADIGA  PERD_OLFT  PERD_PALA  VACINA_COV  HOSPITAL  EVOLUCAO  \n",
       "0      2.0     2.0        2.0        2.0         2.0       1.0       1.0  \n",
       "1      2.0     1.0        2.0        2.0         NaN       1.0       1.0  \n",
       "2      2.0     1.0        2.0        2.0         NaN       1.0       1.0  \n",
       "3      NaN     NaN        NaN        NaN         2.0       1.0       2.0  \n",
       "4      1.0     2.0        2.0        2.0         NaN       2.0       2.0  "
      ]
     },
     "execution_count": 9,
     "metadata": {},
     "output_type": "execute_result"
    }
   ],
   "source": [
    "dadosML.dropna()\n",
    "dadosML.head()"
   ]
  },
  {
   "cell_type": "code",
   "execution_count": 10,
   "metadata": {},
   "outputs": [
    {
     "data": {
      "text/plain": [
       "(1267231, 15)"
      ]
     },
     "execution_count": 10,
     "metadata": {},
     "output_type": "execute_result"
    }
   ],
   "source": [
    "dadosML.shape"
   ]
  },
  {
   "cell_type": "code",
   "execution_count": 11,
   "metadata": {},
   "outputs": [
    {
     "name": "stdout",
     "output_type": "stream",
     "text": [
      "FEBRE         238115\n",
      "TOSSE         180182\n",
      "GARGANTA      410551\n",
      "DISPNEIA      172349\n",
      "DESC_RESP     265532\n",
      "SATURACAO     217446\n",
      "DIARREIA      426725\n",
      "VOMITO        441560\n",
      "DOR_ABD       458927\n",
      "FADIGA        400869\n",
      "PERD_OLFT     446999\n",
      "PERD_PALA     447284\n",
      "VACINA_COV    480158\n",
      "HOSPITAL       41392\n",
      "EVOLUCAO      192543\n",
      "dtype: int64\n"
     ]
    }
   ],
   "source": [
    "print(dadosML.isnull().sum())"
   ]
  },
  {
   "cell_type": "code",
   "execution_count": 12,
   "metadata": {},
   "outputs": [
    {
     "data": {
      "text/html": [
       "<div>\n",
       "<style scoped>\n",
       "    .dataframe tbody tr th:only-of-type {\n",
       "        vertical-align: middle;\n",
       "    }\n",
       "\n",
       "    .dataframe tbody tr th {\n",
       "        vertical-align: top;\n",
       "    }\n",
       "\n",
       "    .dataframe thead th {\n",
       "        text-align: right;\n",
       "    }\n",
       "</style>\n",
       "<table border=\"1\" class=\"dataframe\">\n",
       "  <thead>\n",
       "    <tr style=\"text-align: right;\">\n",
       "      <th></th>\n",
       "      <th>FEBRE</th>\n",
       "      <th>TOSSE</th>\n",
       "      <th>GARGANTA</th>\n",
       "      <th>DISPNEIA</th>\n",
       "      <th>DESC_RESP</th>\n",
       "      <th>SATURACAO</th>\n",
       "      <th>DIARREIA</th>\n",
       "      <th>VOMITO</th>\n",
       "      <th>DOR_ABD</th>\n",
       "      <th>FADIGA</th>\n",
       "      <th>PERD_OLFT</th>\n",
       "      <th>PERD_PALA</th>\n",
       "      <th>VACINA_COV</th>\n",
       "      <th>HOSPITAL</th>\n",
       "      <th>EVOLUCAO</th>\n",
       "    </tr>\n",
       "  </thead>\n",
       "  <tbody>\n",
       "    <tr>\n",
       "      <th>0</th>\n",
       "      <td>2.0</td>\n",
       "      <td>1.0</td>\n",
       "      <td>2.0</td>\n",
       "      <td>2.0</td>\n",
       "      <td>2.0</td>\n",
       "      <td>2.0</td>\n",
       "      <td>2.0</td>\n",
       "      <td>2.0</td>\n",
       "      <td>2.0</td>\n",
       "      <td>2.0</td>\n",
       "      <td>2.0</td>\n",
       "      <td>2.0</td>\n",
       "      <td>2.0</td>\n",
       "      <td>1.0</td>\n",
       "      <td>1.0</td>\n",
       "    </tr>\n",
       "    <tr>\n",
       "      <th>10</th>\n",
       "      <td>2.0</td>\n",
       "      <td>1.0</td>\n",
       "      <td>1.0</td>\n",
       "      <td>1.0</td>\n",
       "      <td>1.0</td>\n",
       "      <td>1.0</td>\n",
       "      <td>1.0</td>\n",
       "      <td>2.0</td>\n",
       "      <td>2.0</td>\n",
       "      <td>1.0</td>\n",
       "      <td>2.0</td>\n",
       "      <td>1.0</td>\n",
       "      <td>2.0</td>\n",
       "      <td>1.0</td>\n",
       "      <td>1.0</td>\n",
       "    </tr>\n",
       "    <tr>\n",
       "      <th>15</th>\n",
       "      <td>1.0</td>\n",
       "      <td>1.0</td>\n",
       "      <td>1.0</td>\n",
       "      <td>2.0</td>\n",
       "      <td>2.0</td>\n",
       "      <td>2.0</td>\n",
       "      <td>1.0</td>\n",
       "      <td>2.0</td>\n",
       "      <td>1.0</td>\n",
       "      <td>2.0</td>\n",
       "      <td>1.0</td>\n",
       "      <td>1.0</td>\n",
       "      <td>2.0</td>\n",
       "      <td>1.0</td>\n",
       "      <td>1.0</td>\n",
       "    </tr>\n",
       "    <tr>\n",
       "      <th>18</th>\n",
       "      <td>2.0</td>\n",
       "      <td>2.0</td>\n",
       "      <td>2.0</td>\n",
       "      <td>1.0</td>\n",
       "      <td>2.0</td>\n",
       "      <td>1.0</td>\n",
       "      <td>2.0</td>\n",
       "      <td>2.0</td>\n",
       "      <td>2.0</td>\n",
       "      <td>2.0</td>\n",
       "      <td>2.0</td>\n",
       "      <td>2.0</td>\n",
       "      <td>2.0</td>\n",
       "      <td>1.0</td>\n",
       "      <td>1.0</td>\n",
       "    </tr>\n",
       "    <tr>\n",
       "      <th>26</th>\n",
       "      <td>2.0</td>\n",
       "      <td>1.0</td>\n",
       "      <td>2.0</td>\n",
       "      <td>1.0</td>\n",
       "      <td>1.0</td>\n",
       "      <td>1.0</td>\n",
       "      <td>2.0</td>\n",
       "      <td>2.0</td>\n",
       "      <td>2.0</td>\n",
       "      <td>2.0</td>\n",
       "      <td>2.0</td>\n",
       "      <td>2.0</td>\n",
       "      <td>2.0</td>\n",
       "      <td>1.0</td>\n",
       "      <td>1.0</td>\n",
       "    </tr>\n",
       "  </tbody>\n",
       "</table>\n",
       "</div>"
      ],
      "text/plain": [
       "    FEBRE  TOSSE  GARGANTA  DISPNEIA  DESC_RESP  SATURACAO  DIARREIA  VOMITO  \\\n",
       "0     2.0    1.0       2.0       2.0        2.0        2.0       2.0     2.0   \n",
       "10    2.0    1.0       1.0       1.0        1.0        1.0       1.0     2.0   \n",
       "15    1.0    1.0       1.0       2.0        2.0        2.0       1.0     2.0   \n",
       "18    2.0    2.0       2.0       1.0        2.0        1.0       2.0     2.0   \n",
       "26    2.0    1.0       2.0       1.0        1.0        1.0       2.0     2.0   \n",
       "\n",
       "    DOR_ABD  FADIGA  PERD_OLFT  PERD_PALA  VACINA_COV  HOSPITAL  EVOLUCAO  \n",
       "0       2.0     2.0        2.0        2.0         2.0       1.0       1.0  \n",
       "10      2.0     1.0        2.0        1.0         2.0       1.0       1.0  \n",
       "15      1.0     2.0        1.0        1.0         2.0       1.0       1.0  \n",
       "18      2.0     2.0        2.0        2.0         2.0       1.0       1.0  \n",
       "26      2.0     2.0        2.0        2.0         2.0       1.0       1.0  "
      ]
     },
     "execution_count": 12,
     "metadata": {},
     "output_type": "execute_result"
    }
   ],
   "source": [
    "dados = dadosML.dropna()\n",
    "dados.head()"
   ]
  },
  {
   "cell_type": "code",
   "execution_count": 13,
   "metadata": {},
   "outputs": [
    {
     "data": {
      "text/plain": [
       "(477244, 15)"
      ]
     },
     "execution_count": 13,
     "metadata": {},
     "output_type": "execute_result"
    }
   ],
   "source": [
    "dados.shape"
   ]
  },
  {
   "cell_type": "code",
   "execution_count": 14,
   "metadata": {},
   "outputs": [
    {
     "name": "stdout",
     "output_type": "stream",
     "text": [
      "FEBRE         0\n",
      "TOSSE         0\n",
      "GARGANTA      0\n",
      "DISPNEIA      0\n",
      "DESC_RESP     0\n",
      "SATURACAO     0\n",
      "DIARREIA      0\n",
      "VOMITO        0\n",
      "DOR_ABD       0\n",
      "FADIGA        0\n",
      "PERD_OLFT     0\n",
      "PERD_PALA     0\n",
      "VACINA_COV    0\n",
      "HOSPITAL      0\n",
      "EVOLUCAO      0\n",
      "dtype: int64\n"
     ]
    }
   ],
   "source": [
    "print(dados.isnull().sum())"
   ]
  },
  {
   "cell_type": "code",
   "execution_count": 15,
   "metadata": {},
   "outputs": [
    {
     "name": "stdout",
     "output_type": "stream",
     "text": [
      "1.0    258736\n",
      "2.0    218508\n",
      "Name: FEBRE, dtype: int64\n",
      "\n",
      "\n",
      "1.0    341876\n",
      "2.0    135368\n",
      "Name: TOSSE, dtype: int64\n",
      "\n",
      "\n",
      "2.0    387070\n",
      "1.0     90174\n",
      "Name: GARGANTA, dtype: int64\n",
      "\n",
      "\n",
      "1.0    353622\n",
      "2.0    123622\n",
      "Name: DISPNEIA, dtype: int64\n",
      "\n",
      "\n",
      "1.0    294809\n",
      "2.0    182435\n",
      "Name: DESC_RESP, dtype: int64\n",
      "\n",
      "\n",
      "1.0    341136\n",
      "2.0    136108\n",
      "Name: SATURACAO, dtype: int64\n",
      "\n",
      "\n",
      "2.0    407929\n",
      "1.0     69315\n",
      "Name: DIARREIA, dtype: int64\n",
      "\n",
      "\n",
      "2.0    427629\n",
      "1.0     49615\n",
      "Name: VOMITO, dtype: int64\n",
      "\n",
      "\n",
      "2.0    438973\n",
      "1.0     38271\n",
      "Name: DOR_ABD, dtype: int64\n",
      "\n",
      "\n",
      "2.0    321027\n",
      "1.0    156217\n",
      "Name: FADIGA, dtype: int64\n",
      "\n",
      "\n",
      "2.0    426770\n",
      "1.0     50474\n",
      "Name: PERD_OLFT, dtype: int64\n",
      "\n",
      "\n",
      "2.0    425178\n",
      "1.0     52066\n",
      "Name: PERD_PALA, dtype: int64\n",
      "\n",
      "\n",
      "2.0    317687\n",
      "1.0    159557\n",
      "Name: VACINA_COV, dtype: int64\n",
      "\n",
      "\n",
      "1.0    468873\n",
      "2.0      8371\n",
      "Name: HOSPITAL, dtype: int64\n",
      "\n",
      "\n",
      "1.0    340559\n",
      "2.0    136685\n",
      "Name: EVOLUCAO, dtype: int64\n",
      "\n",
      "\n"
     ]
    }
   ],
   "source": [
    "for c in range(len(dados.columns)):\n",
    "    print(dados[dados.columns[c]].value_counts())\n",
    "    print(\"\\n\")"
   ]
  },
  {
   "cell_type": "markdown",
   "metadata": {},
   "source": [
    "#### Analisando correlação"
   ]
  },
  {
   "cell_type": "code",
   "execution_count": 16,
   "metadata": {},
   "outputs": [
    {
     "data": {
      "image/png": "[encoded data removed]",
      "text/plain": [
       "<Figure size 1368x1368 with 2 Axes>"
      ]
     },
     "metadata": {
      "needs_background": "light"
     },
     "output_type": "display_data"
    }
   ],
   "source": [
    "import seaborn as sns\n",
    "import matplotlib.pyplot as plt\n",
    "\n",
    "plt.figure(figsize=(19, 19))\n",
    "sns.heatmap(dados.corr(), cmap ='Wistia', annot =True)\n",
    "plt.show()"
   ]
  },
  {
   "cell_type": "markdown",
   "metadata": {},
   "source": [
    "#### separando dados"
   ]
  },
  {
   "cell_type": "code",
   "execution_count": 17,
   "metadata": {},
   "outputs": [],
   "source": [
    "from sklearn.model_selection import train_test_split\n",
    "from sklearn.svm import SVC"
   ]
  },
  {
   "cell_type": "code",
   "execution_count": 18,
   "metadata": {},
   "outputs": [],
   "source": [
    "x = dados.drop('EVOLUCAO', axis=1)\n",
    "y = dados['EVOLUCAO']\n",
    "x_train, x_test, y_train, y_test = train_test_split(x,y,test_size=0.2, random_state=1)"
   ]
  },
  {
   "cell_type": "code",
   "execution_count": 19,
   "metadata": {},
   "outputs": [
    {
     "name": "stdout",
     "output_type": "stream",
     "text": [
      "381795\n",
      "95449\n",
      "381795\n",
      "95449\n"
     ]
    }
   ],
   "source": [
    "print(len(x_train))\n",
    "print(len(x_test))\n",
    "print(len(y_train))\n",
    "print(len(y_test))"
   ]
  },
  {
   "cell_type": "markdown",
   "metadata": {},
   "source": [
    "#### Treinando o modelo"
   ]
  },
  {
   "cell_type": "code",
   "execution_count": 20,
   "metadata": {},
   "outputs": [
    {
     "data": {
      "text/plain": [
       "SVC()"
      ]
     },
     "execution_count": 20,
     "metadata": {},
     "output_type": "execute_result"
    }
   ],
   "source": [
    "classificador = SVC(kernel='rbf')\n",
    "classificador.fit(x_train, y_train)"
   ]
  },
  {
   "cell_type": "markdown",
   "metadata": {},
   "source": [
    "#### Analisando previsões"
   ]
  },
  {
   "cell_type": "code",
   "execution_count": 21,
   "metadata": {},
   "outputs": [
    {
     "data": {
      "text/plain": [
       "array([1., 1., 1., ..., 1., 1., 1.])"
      ]
     },
     "execution_count": 21,
     "metadata": {},
     "output_type": "execute_result"
    }
   ],
   "source": [
    "previsoes = classificador.predict(x_test)\n",
    "previsoes"
   ]
  },
  {
   "cell_type": "markdown",
   "metadata": {},
   "source": [
    "#### Analisando métricas"
   ]
  },
  {
   "cell_type": "code",
   "execution_count": 22,
   "metadata": {},
   "outputs": [
    {
     "name": "stderr",
     "output_type": "stream",
     "text": [
      "C:\\Users\\Gabriel Vasconcelos\\anaconda3\\lib\\site-packages\\sklearn\\utils\\deprecation.py:87: FutureWarning: Function plot_confusion_matrix is deprecated; Function `plot_confusion_matrix` is deprecated in 1.0 and will be removed in 1.2. Use one of the class methods: ConfusionMatrixDisplay.from_predictions or ConfusionMatrixDisplay.from_estimator.\n",
      "  warnings.warn(msg, category=FutureWarning)\n"
     ]
    },
    {
     "data": {
      "image/png": "[encoded data removed]",
      "text/plain": [
       "<Figure size 432x288 with 2 Axes>"
      ]
     },
     "metadata": {
      "needs_background": "light"
     },
     "output_type": "display_data"
    },
    {
     "data": {
      "text/plain": [
       "<Figure size 864x864 with 0 Axes>"
      ]
     },
     "metadata": {},
     "output_type": "display_data"
    }
   ],
   "source": [
    "from sklearn.metrics import plot_confusion_matrix\n",
    "plot_confusion_matrix(classificador, x_test, y_test, cmap=plt.cm.Blues)  \n",
    "plt.figure(figsize = (12, 12))\n",
    "plt.show()"
   ]
  },
  {
   "cell_type": "code",
   "execution_count": 23,
   "metadata": {},
   "outputs": [],
   "source": [
    "from sklearn.metrics import classification_report"
   ]
  },
  {
   "cell_type": "code",
   "execution_count": 24,
   "metadata": {},
   "outputs": [
    {
     "name": "stdout",
     "output_type": "stream",
     "text": [
      "              precision    recall  f1-score   support\n",
      "\n",
      "         1.0       0.72      1.00      0.83     68159\n",
      "         2.0       0.71      0.02      0.05     27290\n",
      "\n",
      "    accuracy                           0.72     95449\n",
      "   macro avg       0.71      0.51      0.44     95449\n",
      "weighted avg       0.72      0.72      0.61     95449\n",
      "\n"
     ]
    }
   ],
   "source": [
    "print(classification_report(y_test, previsoes))"
   ]
  },
  {
   "cell_type": "code",
   "execution_count": null,
   "metadata": {},
   "outputs": [],
   "source": []
  }
 ],
 "metadata": {
  "kernelspec": {
   "display_name": "Python 3",
   "language": "python",
   "name": "python3"
  },
  "language_info": {
   "codemirror_mode": {
    "name": "ipython",
    "version": 3
   },
   "file_extension": ".py",
   "mimetype": "text/x-python",
   "name": "python",
   "nbconvert_exporter": "python",
   "pygments_lexer": "ipython3",
   "version": "3.8.5"
  }
 },
 "nbformat": 4,
 "nbformat_minor": 4
}
